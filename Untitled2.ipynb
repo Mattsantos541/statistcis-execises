{
 "cells": [
  {
   "cell_type": "code",
   "execution_count": 3,
   "metadata": {},
   "outputs": [],
   "source": [
    "import pandas as pd\n",
    "import numpy as np\n",
    "\n"
   ]
  },
  {
   "cell_type": "code",
   "execution_count": 4,
   "metadata": {},
   "outputs": [],
   "source": [
    "bday_23 = np.random.randint(0,365,(1000000,23))"
   ]
  },
  {
   "cell_type": "code",
   "execution_count": 5,
   "metadata": {},
   "outputs": [
    {
     "data": {
      "text/plain": [
       "array([[ 38, 162, 171, ..., 183, 199, 336],\n",
       "       [ 61,  44,  43, ..., 219, 357, 238],\n",
       "       [198, 337, 193, ..., 311,  67, 361],\n",
       "       ...,\n",
       "       [333, 312, 162, ..., 110, 268, 232],\n",
       "       [209, 299,  11, ..., 222, 252, 358],\n",
       "       [240, 155, 219, ..., 336, 138, 211]])"
      ]
     },
     "execution_count": 5,
     "metadata": {},
     "output_type": "execute_result"
    }
   ],
   "source": [
    "#If 23 people are in the same room, what are the odds that two of them share a birthday? What if it's 20 people? 40?\n",
    "bday_23"
   ]
  },
  {
   "cell_type": "code",
   "execution_count": null,
   "metadata": {},
   "outputs": [],
   "source": []
  }
 ],
 "metadata": {
  "kernelspec": {
   "display_name": "Python 3",
   "language": "python",
   "name": "python3"
  },
  "language_info": {
   "codemirror_mode": {
    "name": "ipython",
    "version": 3
   },
   "file_extension": ".py",
   "mimetype": "text/x-python",
   "name": "python",
   "nbconvert_exporter": "python",
   "pygments_lexer": "ipython3",
   "version": "3.7.3"
  }
 },
 "nbformat": 4,
 "nbformat_minor": 2
}
